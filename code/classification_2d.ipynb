{
  "nbformat": 4,
  "nbformat_minor": 0,
  "metadata": {
    "colab": {
      "name": "classification_2d.ipynb",
      "provenance": [],
      "authorship_tag": "ABX9TyOxqCq44Lfo2Vm4VPfrujFI",
      "include_colab_link": true
    },
    "kernelspec": {
      "name": "python3",
      "display_name": "Python 3"
    },
    "language_info": {
      "name": "python"
    }
  },
  "cells": [
    {
      "cell_type": "markdown",
      "metadata": {
        "id": "view-in-github",
        "colab_type": "text"
      },
      "source": [
        "<a href=\"https://colab.research.google.com/github/taha-koroglu/gumushane_eem_eesec440/blob/main/code/classification_2d.ipynb\" target=\"_parent\"><img src=\"https://colab.research.google.com/assets/colab-badge.svg\" alt=\"Open In Colab\"/></a>"
      ]
    },
    {
      "cell_type": "markdown",
      "metadata": {
        "id": "kciTViC8t92c"
      },
      "source": [
        "En başta **kütüphaneleri** dahil ediyoruz.\n",
        "\n",
        "First we import the **libraries**."
      ]
    },
    {
      "cell_type": "code",
      "metadata": {
        "id": "ygIbOheJuCT6"
      },
      "source": [
        "import tensorflow as tf # Google tarafından geliştirilen TF kütüphanesi, en ciddi rakibi Facebook tarfından geliştirilen Pytorch kütüphanesi\n",
        "import matplotlib.pyplot as plt # grafik çizdirmek için\n",
        "import numpy as np # numerical python kütüphanesi\n",
        "import pandas as pd\n",
        "import sys\n",
        "from numpy import random # rasgele veri üretmek için kullanacağımız kütüphane"
      ],
      "execution_count": 3,
      "outputs": []
    },
    {
      "cell_type": "markdown",
      "metadata": {
        "id": "X9MLGr9gu9jy"
      },
      "source": [
        "Bugün bakacağımız örnekte kendimiz sentetik **2-boyutlu veri** üretip ardından bu veriyi etiketleyeceğiz. Üreteceğimiz 2-boyutlu veri toplam n=1000 tane olacak. Bu veri kartezyen koordinat sistemi üzerinde x ve y eksenlerinde -1'den 1'e kadar yer alan aralıkta değer alan rasgele noktalar şeklinde düşünülebilir. Kartezyen koordinat sisteminde x ekseni x<sub>1</sub>, y ekseni ise x<sub>2</sub> isimlendirilecek. Burada **x** = (x<sub>1</sub>, x<sub>2</sub>)<sup>T</sup> bizim **özellik** vektörümüz."
      ]
    },
    {
      "cell_type": "code",
      "metadata": {
        "id": "ICdNRplZww7n"
      },
      "source": [
        "n = 1000 # veri sayısı n = 20 (n = 1000 bu örnek için iyi bir seçim)\n",
        "x = 2*random.rand(n,2)-1\n",
        "#print(x)\n",
        "#print(x[0,1])"
      ],
      "execution_count": 18,
      "outputs": []
    },
    {
      "cell_type": "markdown",
      "metadata": {
        "id": "TNX3TPqxzFMe"
      },
      "source": [
        "Şimdi hedef verisini (**target data**) oluşturalım. Yani ürettiğimiz veriyi etiketleyelim (**data annotation**). Sınıflandırmayı dilediğimiz gibi yapabiliriz bu örnekte. Burada biz birim çember içersinde yer alan noktaları 1, dışında kalan noktaları 0 olarak etiketleyeceğiz."
      ]
    },
    {
      "cell_type": "code",
      "metadata": {
        "id": "K5alBWIMzThR"
      },
      "source": [
        "t = np.zeros((n,1))\n",
        "#print(t)\n",
        "for i, point in enumerate(x):\n",
        "  if (point[0]**2 + point[1]**2) >= 1:\n",
        "    t[i] = 1\n",
        "#print(\"Güncellenmiş hedef verisini yazdıralım.\")\n",
        "#print(t)"
      ],
      "execution_count": 19,
      "outputs": []
    },
    {
      "cell_type": "markdown",
      "metadata": {
        "id": "40INIeRdCpyP"
      },
      "source": [
        "TF kütüphanesinin içerisinde yer alan **Keras** kütüphanesiyle bir tane çok katmanlı sinir ağı (**multi-layer perceptron - MLP**) oluşturalım. Giriş sayısının iki, çıkış sayısının bir olduğunu, gizli katman (**hidden layer**) sayısını ve bu katmanlardaki nöron sayısını (**number of neurons**) ve de hangi aktivasyon fonksiyonunu (**activation function**) kullandığımızı adım adım seçeceğiz."
      ]
    },
    {
      "cell_type": "code",
      "metadata": {
        "id": "y85BfYUdC1MP"
      },
      "source": [
        "model = tf.keras.models.Sequential(layers=None, name='2d_classifier_MLP')\n",
        "model.add(tf.keras.layers.Dense(20, input_dim = 2, activation = 'tanh', name='HL1'))\n",
        "model.add(tf.keras.layers.Dense(30, activation = 'tanh', name='HL2'))\n",
        "model.add(tf.keras.layers.Dense(40, activation = 'tanh', name='HL3'))\n",
        "model.add(tf.keras.layers.Dense(30, activation = 'tanh', name='HL4'))\n",
        "model.add(tf.keras.layers.Dense(1, activation = 'tanh', name='outputLayer'))"
      ],
      "execution_count": 20,
      "outputs": []
    },
    {
      "cell_type": "markdown",
      "metadata": {
        "id": "hXOAHx4MEiyi"
      },
      "source": [
        "Yukarıdaki kodda yapay sinir ağımızın yapısını (structure) yani katman sayısı, katmanlardaki nöron miktarı, nöron çıkışlarında kullanılan aktivasyon fonksiyon tiplerini belirledik. Bir sonraki adım olarak öğrenme (learning) işlemini başlatacağız. Şimdi öğrenme işleminin nasıl olacağını belirleyelim."
      ]
    },
    {
      "cell_type": "code",
      "metadata": {
        "colab": {
          "base_uri": "https://localhost:8080/"
        },
        "id": "mjrK-6GEEjal",
        "outputId": "08e8bdb7-814c-4260-df87-10955fc20958"
      },
      "source": [
        "model.compile(optimizer='adam', loss='mean_squared_error', metrics='accuracy')\n",
        "model.summary()"
      ],
      "execution_count": 21,
      "outputs": [
        {
          "output_type": "stream",
          "text": [
            "Model: \"2d_classifier_MLP\"\n",
            "_________________________________________________________________\n",
            "Layer (type)                 Output Shape              Param #   \n",
            "=================================================================\n",
            "HL1 (Dense)                  (None, 20)                60        \n",
            "_________________________________________________________________\n",
            "HL2 (Dense)                  (None, 30)                630       \n",
            "_________________________________________________________________\n",
            "HL3 (Dense)                  (None, 40)                1240      \n",
            "_________________________________________________________________\n",
            "HL4 (Dense)                  (None, 30)                1230      \n",
            "_________________________________________________________________\n",
            "outputLayer (Dense)          (None, 1)                 31        \n",
            "=================================================================\n",
            "Total params: 3,191\n",
            "Trainable params: 3,191\n",
            "Non-trainable params: 0\n",
            "_________________________________________________________________\n"
          ],
          "name": "stdout"
        }
      ]
    },
    {
      "cell_type": "markdown",
      "metadata": {
        "id": "Ne3VTWpfE6cF"
      },
      "source": [
        "Son olarak konfigürasyonunu tamamladığımız çok katmanlı yapay sinir ağının eğitimini başlatıyoruz."
      ]
    },
    {
      "cell_type": "code",
      "metadata": {
        "colab": {
          "base_uri": "https://localhost:8080/"
        },
        "id": "Mt2mhOQ6E6-u",
        "outputId": "b3f6bd00-a06b-42d4-c9d1-d5f9925bf7ae"
      },
      "source": [
        "history = model.fit(x, t, epochs=200, verbose=1, validation_split=0.2)"
      ],
      "execution_count": 22,
      "outputs": [
        {
          "output_type": "stream",
          "text": [
            "Epoch 1/200\n",
            "25/25 [==============================] - 1s 10ms/step - loss: 0.2150 - accuracy: 0.7787 - val_loss: 0.1728 - val_accuracy: 0.7850\n",
            "Epoch 2/200\n",
            "25/25 [==============================] - 0s 3ms/step - loss: 0.1896 - accuracy: 0.7661 - val_loss: 0.1848 - val_accuracy: 0.7850\n",
            "Epoch 3/200\n",
            "25/25 [==============================] - 0s 3ms/step - loss: 0.1774 - accuracy: 0.7790 - val_loss: 0.1709 - val_accuracy: 0.7850\n",
            "Epoch 4/200\n",
            "25/25 [==============================] - 0s 3ms/step - loss: 0.1719 - accuracy: 0.7859 - val_loss: 0.1712 - val_accuracy: 0.7850\n",
            "Epoch 5/200\n",
            "25/25 [==============================] - 0s 4ms/step - loss: 0.1681 - accuracy: 0.7882 - val_loss: 0.1789 - val_accuracy: 0.7850\n",
            "Epoch 6/200\n",
            "25/25 [==============================] - 0s 4ms/step - loss: 0.1694 - accuracy: 0.7845 - val_loss: 0.1674 - val_accuracy: 0.7850\n",
            "Epoch 7/200\n",
            "25/25 [==============================] - 0s 3ms/step - loss: 0.1479 - accuracy: 0.8146 - val_loss: 0.1715 - val_accuracy: 0.7850\n",
            "Epoch 8/200\n",
            "25/25 [==============================] - 0s 3ms/step - loss: 0.1848 - accuracy: 0.7521 - val_loss: 0.1739 - val_accuracy: 0.7850\n",
            "Epoch 9/200\n",
            "25/25 [==============================] - 0s 3ms/step - loss: 0.1679 - accuracy: 0.7832 - val_loss: 0.1601 - val_accuracy: 0.7850\n",
            "Epoch 10/200\n",
            "25/25 [==============================] - 0s 3ms/step - loss: 0.1604 - accuracy: 0.7747 - val_loss: 0.1646 - val_accuracy: 0.7850\n",
            "Epoch 11/200\n",
            "25/25 [==============================] - 0s 3ms/step - loss: 0.1470 - accuracy: 0.7850 - val_loss: 0.1624 - val_accuracy: 0.7850\n",
            "Epoch 12/200\n",
            "25/25 [==============================] - 0s 4ms/step - loss: 0.1434 - accuracy: 0.7862 - val_loss: 0.1487 - val_accuracy: 0.7850\n",
            "Epoch 13/200\n",
            "25/25 [==============================] - 0s 3ms/step - loss: 0.1350 - accuracy: 0.7782 - val_loss: 0.1286 - val_accuracy: 0.8100\n",
            "Epoch 14/200\n",
            "25/25 [==============================] - 0s 3ms/step - loss: 0.1274 - accuracy: 0.7898 - val_loss: 0.1183 - val_accuracy: 0.7900\n",
            "Epoch 15/200\n",
            "25/25 [==============================] - 0s 3ms/step - loss: 0.1110 - accuracy: 0.8075 - val_loss: 0.1088 - val_accuracy: 0.8550\n",
            "Epoch 16/200\n",
            "25/25 [==============================] - 0s 3ms/step - loss: 0.1026 - accuracy: 0.8520 - val_loss: 0.0995 - val_accuracy: 0.8900\n",
            "Epoch 17/200\n",
            "25/25 [==============================] - 0s 3ms/step - loss: 0.1021 - accuracy: 0.8741 - val_loss: 0.0961 - val_accuracy: 0.8700\n",
            "Epoch 18/200\n",
            "25/25 [==============================] - 0s 4ms/step - loss: 0.1029 - accuracy: 0.8472 - val_loss: 0.1109 - val_accuracy: 0.8750\n",
            "Epoch 19/200\n",
            "25/25 [==============================] - 0s 4ms/step - loss: 0.0897 - accuracy: 0.9163 - val_loss: 0.0963 - val_accuracy: 0.9000\n",
            "Epoch 20/200\n",
            "25/25 [==============================] - 0s 3ms/step - loss: 0.0897 - accuracy: 0.9163 - val_loss: 0.1071 - val_accuracy: 0.8750\n",
            "Epoch 21/200\n",
            "25/25 [==============================] - 0s 4ms/step - loss: 0.0987 - accuracy: 0.8957 - val_loss: 0.0945 - val_accuracy: 0.8750\n",
            "Epoch 22/200\n",
            "25/25 [==============================] - 0s 3ms/step - loss: 0.0943 - accuracy: 0.9074 - val_loss: 0.0924 - val_accuracy: 0.9400\n",
            "Epoch 23/200\n",
            "25/25 [==============================] - 0s 3ms/step - loss: 0.0918 - accuracy: 0.9093 - val_loss: 0.0898 - val_accuracy: 0.9350\n",
            "Epoch 24/200\n",
            "25/25 [==============================] - 0s 3ms/step - loss: 0.0919 - accuracy: 0.9182 - val_loss: 0.0928 - val_accuracy: 0.9100\n",
            "Epoch 25/200\n",
            "25/25 [==============================] - 0s 3ms/step - loss: 0.0915 - accuracy: 0.9084 - val_loss: 0.1121 - val_accuracy: 0.8450\n",
            "Epoch 26/200\n",
            "25/25 [==============================] - 0s 3ms/step - loss: 0.0946 - accuracy: 0.8906 - val_loss: 0.0956 - val_accuracy: 0.9300\n",
            "Epoch 27/200\n",
            "25/25 [==============================] - 0s 3ms/step - loss: 0.0919 - accuracy: 0.9134 - val_loss: 0.0882 - val_accuracy: 0.9450\n",
            "Epoch 28/200\n",
            "25/25 [==============================] - 0s 3ms/step - loss: 0.0933 - accuracy: 0.9195 - val_loss: 0.0954 - val_accuracy: 0.9200\n",
            "Epoch 29/200\n",
            "25/25 [==============================] - 0s 3ms/step - loss: 0.0950 - accuracy: 0.9325 - val_loss: 0.0970 - val_accuracy: 0.8950\n",
            "Epoch 30/200\n",
            "25/25 [==============================] - 0s 3ms/step - loss: 0.0867 - accuracy: 0.9307 - val_loss: 0.1058 - val_accuracy: 0.8750\n",
            "Epoch 31/200\n",
            "25/25 [==============================] - 0s 4ms/step - loss: 0.0942 - accuracy: 0.9115 - val_loss: 0.0944 - val_accuracy: 0.9300\n",
            "Epoch 32/200\n",
            "25/25 [==============================] - 0s 3ms/step - loss: 0.0949 - accuracy: 0.9431 - val_loss: 0.0926 - val_accuracy: 0.9000\n",
            "Epoch 33/200\n",
            "25/25 [==============================] - 0s 3ms/step - loss: 0.0914 - accuracy: 0.9076 - val_loss: 0.0908 - val_accuracy: 0.9400\n",
            "Epoch 34/200\n",
            "25/25 [==============================] - 0s 3ms/step - loss: 0.0888 - accuracy: 0.9393 - val_loss: 0.1048 - val_accuracy: 0.8450\n",
            "Epoch 35/200\n",
            "25/25 [==============================] - 0s 3ms/step - loss: 0.0941 - accuracy: 0.9196 - val_loss: 0.1011 - val_accuracy: 0.8750\n",
            "Epoch 36/200\n",
            "25/25 [==============================] - 0s 3ms/step - loss: 0.0862 - accuracy: 0.9348 - val_loss: 0.0948 - val_accuracy: 0.9300\n",
            "Epoch 37/200\n",
            "25/25 [==============================] - 0s 3ms/step - loss: 0.0912 - accuracy: 0.9333 - val_loss: 0.0841 - val_accuracy: 0.9400\n",
            "Epoch 38/200\n",
            "25/25 [==============================] - 0s 3ms/step - loss: 0.0964 - accuracy: 0.9075 - val_loss: 0.0957 - val_accuracy: 0.9150\n",
            "Epoch 39/200\n",
            "25/25 [==============================] - 0s 3ms/step - loss: 0.0941 - accuracy: 0.9170 - val_loss: 0.0845 - val_accuracy: 0.9250\n",
            "Epoch 40/200\n",
            "25/25 [==============================] - 0s 3ms/step - loss: 0.0945 - accuracy: 0.9238 - val_loss: 0.0816 - val_accuracy: 0.9450\n",
            "Epoch 41/200\n",
            "25/25 [==============================] - 0s 3ms/step - loss: 0.0827 - accuracy: 0.9245 - val_loss: 0.0830 - val_accuracy: 0.9600\n",
            "Epoch 42/200\n",
            "25/25 [==============================] - 0s 5ms/step - loss: 0.0848 - accuracy: 0.9379 - val_loss: 0.0908 - val_accuracy: 0.9150\n",
            "Epoch 43/200\n",
            "25/25 [==============================] - 0s 3ms/step - loss: 0.0870 - accuracy: 0.9313 - val_loss: 0.0822 - val_accuracy: 0.9500\n",
            "Epoch 44/200\n",
            "25/25 [==============================] - 0s 4ms/step - loss: 0.0878 - accuracy: 0.9384 - val_loss: 0.0938 - val_accuracy: 0.8950\n",
            "Epoch 45/200\n",
            "25/25 [==============================] - 0s 4ms/step - loss: 0.0805 - accuracy: 0.9505 - val_loss: 0.0792 - val_accuracy: 0.9500\n",
            "Epoch 46/200\n",
            "25/25 [==============================] - 0s 3ms/step - loss: 0.0843 - accuracy: 0.9225 - val_loss: 0.0808 - val_accuracy: 0.9550\n",
            "Epoch 47/200\n",
            "25/25 [==============================] - 0s 3ms/step - loss: 0.0850 - accuracy: 0.9355 - val_loss: 0.0824 - val_accuracy: 0.9650\n",
            "Epoch 48/200\n",
            "25/25 [==============================] - 0s 3ms/step - loss: 0.0813 - accuracy: 0.9340 - val_loss: 0.0801 - val_accuracy: 0.9550\n",
            "Epoch 49/200\n",
            "25/25 [==============================] - 0s 3ms/step - loss: 0.0771 - accuracy: 0.9387 - val_loss: 0.0795 - val_accuracy: 0.9550\n",
            "Epoch 50/200\n",
            "25/25 [==============================] - 0s 3ms/step - loss: 0.0834 - accuracy: 0.9354 - val_loss: 0.0806 - val_accuracy: 0.9650\n",
            "Epoch 51/200\n",
            "25/25 [==============================] - 0s 4ms/step - loss: 0.0886 - accuracy: 0.9379 - val_loss: 0.0778 - val_accuracy: 0.9650\n",
            "Epoch 52/200\n",
            "25/25 [==============================] - 0s 4ms/step - loss: 0.0854 - accuracy: 0.9482 - val_loss: 0.0774 - val_accuracy: 0.9400\n",
            "Epoch 53/200\n",
            "25/25 [==============================] - 0s 4ms/step - loss: 0.0880 - accuracy: 0.9202 - val_loss: 0.0752 - val_accuracy: 0.9500\n",
            "Epoch 54/200\n",
            "25/25 [==============================] - 0s 4ms/step - loss: 0.0829 - accuracy: 0.9196 - val_loss: 0.0698 - val_accuracy: 0.9750\n",
            "Epoch 55/200\n",
            "25/25 [==============================] - 0s 3ms/step - loss: 0.0805 - accuracy: 0.9284 - val_loss: 0.0742 - val_accuracy: 0.9450\n",
            "Epoch 56/200\n",
            "25/25 [==============================] - 0s 4ms/step - loss: 0.0773 - accuracy: 0.9316 - val_loss: 0.0711 - val_accuracy: 0.9550\n",
            "Epoch 57/200\n",
            "25/25 [==============================] - 0s 4ms/step - loss: 0.0819 - accuracy: 0.9272 - val_loss: 0.0729 - val_accuracy: 0.9600\n",
            "Epoch 58/200\n",
            "25/25 [==============================] - 0s 3ms/step - loss: 0.0748 - accuracy: 0.9615 - val_loss: 0.0708 - val_accuracy: 0.9550\n",
            "Epoch 59/200\n",
            "25/25 [==============================] - 0s 3ms/step - loss: 0.0649 - accuracy: 0.9526 - val_loss: 0.0642 - val_accuracy: 0.9700\n",
            "Epoch 60/200\n",
            "25/25 [==============================] - 0s 4ms/step - loss: 0.0735 - accuracy: 0.9391 - val_loss: 0.0664 - val_accuracy: 0.9600\n",
            "Epoch 61/200\n",
            "25/25 [==============================] - 0s 3ms/step - loss: 0.0736 - accuracy: 0.9474 - val_loss: 0.0710 - val_accuracy: 0.9450\n",
            "Epoch 62/200\n",
            "25/25 [==============================] - 0s 3ms/step - loss: 0.0712 - accuracy: 0.9397 - val_loss: 0.0656 - val_accuracy: 0.9500\n",
            "Epoch 63/200\n",
            "25/25 [==============================] - 0s 3ms/step - loss: 0.0673 - accuracy: 0.9509 - val_loss: 0.0612 - val_accuracy: 0.9750\n",
            "Epoch 64/200\n",
            "25/25 [==============================] - 0s 3ms/step - loss: 0.0707 - accuracy: 0.9412 - val_loss: 0.0551 - val_accuracy: 0.9750\n",
            "Epoch 65/200\n",
            "25/25 [==============================] - 0s 4ms/step - loss: 0.0593 - accuracy: 0.9591 - val_loss: 0.0685 - val_accuracy: 0.9050\n",
            "Epoch 66/200\n",
            "25/25 [==============================] - 0s 3ms/step - loss: 0.0653 - accuracy: 0.9410 - val_loss: 0.0532 - val_accuracy: 0.9800\n",
            "Epoch 67/200\n",
            "25/25 [==============================] - 0s 4ms/step - loss: 0.0651 - accuracy: 0.9450 - val_loss: 0.0547 - val_accuracy: 0.9700\n",
            "Epoch 68/200\n",
            "25/25 [==============================] - 0s 4ms/step - loss: 0.0567 - accuracy: 0.9693 - val_loss: 0.0548 - val_accuracy: 0.9650\n",
            "Epoch 69/200\n",
            "25/25 [==============================] - 0s 3ms/step - loss: 0.0641 - accuracy: 0.9405 - val_loss: 0.0489 - val_accuracy: 0.9700\n",
            "Epoch 70/200\n",
            "25/25 [==============================] - 0s 3ms/step - loss: 0.0574 - accuracy: 0.9498 - val_loss: 0.0497 - val_accuracy: 0.9800\n",
            "Epoch 71/200\n",
            "25/25 [==============================] - 0s 4ms/step - loss: 0.0563 - accuracy: 0.9533 - val_loss: 0.0439 - val_accuracy: 0.9850\n",
            "Epoch 72/200\n",
            "25/25 [==============================] - 0s 4ms/step - loss: 0.0507 - accuracy: 0.9557 - val_loss: 0.0595 - val_accuracy: 0.9250\n",
            "Epoch 73/200\n",
            "25/25 [==============================] - 0s 4ms/step - loss: 0.0568 - accuracy: 0.9603 - val_loss: 0.0478 - val_accuracy: 0.9650\n",
            "Epoch 74/200\n",
            "25/25 [==============================] - 0s 3ms/step - loss: 0.0498 - accuracy: 0.9563 - val_loss: 0.0515 - val_accuracy: 0.9400\n",
            "Epoch 75/200\n",
            "25/25 [==============================] - 0s 3ms/step - loss: 0.0497 - accuracy: 0.9548 - val_loss: 0.0596 - val_accuracy: 0.9100\n",
            "Epoch 76/200\n",
            "25/25 [==============================] - 0s 3ms/step - loss: 0.0504 - accuracy: 0.9548 - val_loss: 0.0469 - val_accuracy: 0.9500\n",
            "Epoch 77/200\n",
            "25/25 [==============================] - 0s 3ms/step - loss: 0.0437 - accuracy: 0.9735 - val_loss: 0.0449 - val_accuracy: 0.9750\n",
            "Epoch 78/200\n",
            "25/25 [==============================] - 0s 3ms/step - loss: 0.0518 - accuracy: 0.9503 - val_loss: 0.0387 - val_accuracy: 0.9800\n",
            "Epoch 79/200\n",
            "25/25 [==============================] - 0s 3ms/step - loss: 0.0459 - accuracy: 0.9603 - val_loss: 0.0460 - val_accuracy: 0.9450\n",
            "Epoch 80/200\n",
            "25/25 [==============================] - 0s 3ms/step - loss: 0.0475 - accuracy: 0.9652 - val_loss: 0.0493 - val_accuracy: 0.9400\n",
            "Epoch 81/200\n",
            "25/25 [==============================] - 0s 4ms/step - loss: 0.0470 - accuracy: 0.9664 - val_loss: 0.0413 - val_accuracy: 0.9700\n",
            "Epoch 82/200\n",
            "25/25 [==============================] - 0s 4ms/step - loss: 0.0490 - accuracy: 0.9586 - val_loss: 0.0435 - val_accuracy: 0.9550\n",
            "Epoch 83/200\n",
            "25/25 [==============================] - 0s 3ms/step - loss: 0.0409 - accuracy: 0.9600 - val_loss: 0.0549 - val_accuracy: 0.9100\n",
            "Epoch 84/200\n",
            "25/25 [==============================] - 0s 3ms/step - loss: 0.0448 - accuracy: 0.9575 - val_loss: 0.0391 - val_accuracy: 0.9700\n",
            "Epoch 85/200\n",
            "25/25 [==============================] - 0s 3ms/step - loss: 0.0448 - accuracy: 0.9578 - val_loss: 0.0378 - val_accuracy: 0.9700\n",
            "Epoch 86/200\n",
            "25/25 [==============================] - 0s 3ms/step - loss: 0.0475 - accuracy: 0.9436 - val_loss: 0.0376 - val_accuracy: 0.9650\n",
            "Epoch 87/200\n",
            "25/25 [==============================] - 0s 3ms/step - loss: 0.0402 - accuracy: 0.9620 - val_loss: 0.0410 - val_accuracy: 0.9600\n",
            "Epoch 88/200\n",
            "25/25 [==============================] - 0s 3ms/step - loss: 0.0457 - accuracy: 0.9554 - val_loss: 0.0380 - val_accuracy: 0.9750\n",
            "Epoch 89/200\n",
            "25/25 [==============================] - 0s 3ms/step - loss: 0.0454 - accuracy: 0.9499 - val_loss: 0.0388 - val_accuracy: 0.9600\n",
            "Epoch 90/200\n",
            "25/25 [==============================] - 0s 3ms/step - loss: 0.0386 - accuracy: 0.9683 - val_loss: 0.0388 - val_accuracy: 0.9450\n",
            "Epoch 91/200\n",
            "25/25 [==============================] - 0s 4ms/step - loss: 0.0386 - accuracy: 0.9681 - val_loss: 0.0414 - val_accuracy: 0.9500\n",
            "Epoch 92/200\n",
            "25/25 [==============================] - 0s 3ms/step - loss: 0.0412 - accuracy: 0.9612 - val_loss: 0.0391 - val_accuracy: 0.9400\n",
            "Epoch 93/200\n",
            "25/25 [==============================] - 0s 4ms/step - loss: 0.0414 - accuracy: 0.9570 - val_loss: 0.0378 - val_accuracy: 0.9600\n",
            "Epoch 94/200\n",
            "25/25 [==============================] - 0s 4ms/step - loss: 0.0391 - accuracy: 0.9666 - val_loss: 0.0532 - val_accuracy: 0.9200\n",
            "Epoch 95/200\n",
            "25/25 [==============================] - 0s 3ms/step - loss: 0.0446 - accuracy: 0.9534 - val_loss: 0.0397 - val_accuracy: 0.9400\n",
            "Epoch 96/200\n",
            "25/25 [==============================] - 0s 3ms/step - loss: 0.0359 - accuracy: 0.9679 - val_loss: 0.0356 - val_accuracy: 0.9650\n",
            "Epoch 97/200\n",
            "25/25 [==============================] - 0s 3ms/step - loss: 0.0354 - accuracy: 0.9678 - val_loss: 0.0356 - val_accuracy: 0.9650\n",
            "Epoch 98/200\n",
            "25/25 [==============================] - 0s 3ms/step - loss: 0.0377 - accuracy: 0.9652 - val_loss: 0.0443 - val_accuracy: 0.9400\n",
            "Epoch 99/200\n",
            "25/25 [==============================] - 0s 4ms/step - loss: 0.0398 - accuracy: 0.9528 - val_loss: 0.0464 - val_accuracy: 0.9200\n",
            "Epoch 100/200\n",
            "25/25 [==============================] - 0s 3ms/step - loss: 0.0376 - accuracy: 0.9575 - val_loss: 0.0466 - val_accuracy: 0.9300\n",
            "Epoch 101/200\n",
            "25/25 [==============================] - 0s 4ms/step - loss: 0.0434 - accuracy: 0.9538 - val_loss: 0.0505 - val_accuracy: 0.9150\n",
            "Epoch 102/200\n",
            "25/25 [==============================] - 0s 3ms/step - loss: 0.0435 - accuracy: 0.9559 - val_loss: 0.0435 - val_accuracy: 0.9300\n",
            "Epoch 103/200\n",
            "25/25 [==============================] - 0s 3ms/step - loss: 0.0463 - accuracy: 0.9428 - val_loss: 0.0373 - val_accuracy: 0.9500\n",
            "Epoch 104/200\n",
            "25/25 [==============================] - 0s 4ms/step - loss: 0.0357 - accuracy: 0.9596 - val_loss: 0.0353 - val_accuracy: 0.9500\n",
            "Epoch 105/200\n",
            "25/25 [==============================] - 0s 4ms/step - loss: 0.0376 - accuracy: 0.9554 - val_loss: 0.0336 - val_accuracy: 0.9650\n",
            "Epoch 106/200\n",
            "25/25 [==============================] - 0s 4ms/step - loss: 0.0302 - accuracy: 0.9656 - val_loss: 0.0430 - val_accuracy: 0.9300\n",
            "Epoch 107/200\n",
            "25/25 [==============================] - 0s 4ms/step - loss: 0.0367 - accuracy: 0.9719 - val_loss: 0.0343 - val_accuracy: 0.9550\n",
            "Epoch 108/200\n",
            "25/25 [==============================] - 0s 4ms/step - loss: 0.0367 - accuracy: 0.9587 - val_loss: 0.0405 - val_accuracy: 0.9450\n",
            "Epoch 109/200\n",
            "25/25 [==============================] - 0s 4ms/step - loss: 0.0378 - accuracy: 0.9646 - val_loss: 0.0314 - val_accuracy: 0.9700\n",
            "Epoch 110/200\n",
            "25/25 [==============================] - 0s 3ms/step - loss: 0.0357 - accuracy: 0.9684 - val_loss: 0.0338 - val_accuracy: 0.9700\n",
            "Epoch 111/200\n",
            "25/25 [==============================] - 0s 4ms/step - loss: 0.0316 - accuracy: 0.9685 - val_loss: 0.0390 - val_accuracy: 0.9350\n",
            "Epoch 112/200\n",
            "25/25 [==============================] - 0s 4ms/step - loss: 0.0358 - accuracy: 0.9610 - val_loss: 0.0350 - val_accuracy: 0.9450\n",
            "Epoch 113/200\n",
            "25/25 [==============================] - 0s 4ms/step - loss: 0.0363 - accuracy: 0.9583 - val_loss: 0.0301 - val_accuracy: 0.9700\n",
            "Epoch 114/200\n",
            "25/25 [==============================] - 0s 4ms/step - loss: 0.0302 - accuracy: 0.9711 - val_loss: 0.0393 - val_accuracy: 0.9650\n",
            "Epoch 115/200\n",
            "25/25 [==============================] - 0s 3ms/step - loss: 0.0356 - accuracy: 0.9648 - val_loss: 0.0299 - val_accuracy: 0.9550\n",
            "Epoch 116/200\n",
            "25/25 [==============================] - 0s 3ms/step - loss: 0.0353 - accuracy: 0.9632 - val_loss: 0.0267 - val_accuracy: 0.9800\n",
            "Epoch 117/200\n",
            "25/25 [==============================] - 0s 3ms/step - loss: 0.0383 - accuracy: 0.9666 - val_loss: 0.0374 - val_accuracy: 0.9400\n",
            "Epoch 118/200\n",
            "25/25 [==============================] - 0s 3ms/step - loss: 0.0317 - accuracy: 0.9672 - val_loss: 0.0364 - val_accuracy: 0.9400\n",
            "Epoch 119/200\n",
            "25/25 [==============================] - 0s 3ms/step - loss: 0.0300 - accuracy: 0.9803 - val_loss: 0.0291 - val_accuracy: 0.9700\n",
            "Epoch 120/200\n",
            "25/25 [==============================] - 0s 3ms/step - loss: 0.0301 - accuracy: 0.9657 - val_loss: 0.0356 - val_accuracy: 0.9400\n",
            "Epoch 121/200\n",
            "25/25 [==============================] - 0s 3ms/step - loss: 0.0369 - accuracy: 0.9633 - val_loss: 0.0301 - val_accuracy: 0.9550\n",
            "Epoch 122/200\n",
            "25/25 [==============================] - 0s 4ms/step - loss: 0.0330 - accuracy: 0.9569 - val_loss: 0.0276 - val_accuracy: 0.9800\n",
            "Epoch 123/200\n",
            "25/25 [==============================] - 0s 3ms/step - loss: 0.0326 - accuracy: 0.9679 - val_loss: 0.0303 - val_accuracy: 0.9650\n",
            "Epoch 124/200\n",
            "25/25 [==============================] - 0s 4ms/step - loss: 0.0334 - accuracy: 0.9652 - val_loss: 0.0240 - val_accuracy: 0.9850\n",
            "Epoch 125/200\n",
            "25/25 [==============================] - 0s 4ms/step - loss: 0.0296 - accuracy: 0.9664 - val_loss: 0.0282 - val_accuracy: 0.9700\n",
            "Epoch 126/200\n",
            "25/25 [==============================] - 0s 4ms/step - loss: 0.0298 - accuracy: 0.9695 - val_loss: 0.0275 - val_accuracy: 0.9750\n",
            "Epoch 127/200\n",
            "25/25 [==============================] - 0s 3ms/step - loss: 0.0311 - accuracy: 0.9661 - val_loss: 0.0361 - val_accuracy: 0.9400\n",
            "Epoch 128/200\n",
            "25/25 [==============================] - 0s 4ms/step - loss: 0.0347 - accuracy: 0.9616 - val_loss: 0.0269 - val_accuracy: 0.9700\n",
            "Epoch 129/200\n",
            "25/25 [==============================] - 0s 3ms/step - loss: 0.0328 - accuracy: 0.9596 - val_loss: 0.0353 - val_accuracy: 0.9600\n",
            "Epoch 130/200\n",
            "25/25 [==============================] - 0s 3ms/step - loss: 0.0318 - accuracy: 0.9579 - val_loss: 0.0334 - val_accuracy: 0.9650\n",
            "Epoch 131/200\n",
            "25/25 [==============================] - 0s 3ms/step - loss: 0.0329 - accuracy: 0.9703 - val_loss: 0.0301 - val_accuracy: 0.9600\n",
            "Epoch 132/200\n",
            "25/25 [==============================] - 0s 4ms/step - loss: 0.0315 - accuracy: 0.9694 - val_loss: 0.0291 - val_accuracy: 0.9650\n",
            "Epoch 133/200\n",
            "25/25 [==============================] - 0s 4ms/step - loss: 0.0316 - accuracy: 0.9658 - val_loss: 0.0307 - val_accuracy: 0.9750\n",
            "Epoch 134/200\n",
            "25/25 [==============================] - 0s 3ms/step - loss: 0.0405 - accuracy: 0.9537 - val_loss: 0.0311 - val_accuracy: 0.9650\n",
            "Epoch 135/200\n",
            "25/25 [==============================] - 0s 3ms/step - loss: 0.0271 - accuracy: 0.9680 - val_loss: 0.0289 - val_accuracy: 0.9700\n",
            "Epoch 136/200\n",
            "25/25 [==============================] - 0s 3ms/step - loss: 0.0278 - accuracy: 0.9714 - val_loss: 0.0404 - val_accuracy: 0.9300\n",
            "Epoch 137/200\n",
            "25/25 [==============================] - 0s 3ms/step - loss: 0.0319 - accuracy: 0.9659 - val_loss: 0.0249 - val_accuracy: 0.9750\n",
            "Epoch 138/200\n",
            "25/25 [==============================] - 0s 3ms/step - loss: 0.0279 - accuracy: 0.9691 - val_loss: 0.0242 - val_accuracy: 0.9750\n",
            "Epoch 139/200\n",
            "25/25 [==============================] - 0s 4ms/step - loss: 0.0266 - accuracy: 0.9734 - val_loss: 0.0309 - val_accuracy: 0.9600\n",
            "Epoch 140/200\n",
            "25/25 [==============================] - 0s 3ms/step - loss: 0.0252 - accuracy: 0.9753 - val_loss: 0.0243 - val_accuracy: 0.9750\n",
            "Epoch 141/200\n",
            "25/25 [==============================] - 0s 4ms/step - loss: 0.0310 - accuracy: 0.9699 - val_loss: 0.0307 - val_accuracy: 0.9500\n",
            "Epoch 142/200\n",
            "25/25 [==============================] - 0s 4ms/step - loss: 0.0262 - accuracy: 0.9731 - val_loss: 0.0273 - val_accuracy: 0.9750\n",
            "Epoch 143/200\n",
            "25/25 [==============================] - 0s 4ms/step - loss: 0.0266 - accuracy: 0.9742 - val_loss: 0.0294 - val_accuracy: 0.9750\n",
            "Epoch 144/200\n",
            "25/25 [==============================] - 0s 4ms/step - loss: 0.0275 - accuracy: 0.9753 - val_loss: 0.0343 - val_accuracy: 0.9450\n",
            "Epoch 145/200\n",
            "25/25 [==============================] - 0s 4ms/step - loss: 0.0242 - accuracy: 0.9794 - val_loss: 0.0307 - val_accuracy: 0.9650\n",
            "Epoch 146/200\n",
            "25/25 [==============================] - 0s 3ms/step - loss: 0.0282 - accuracy: 0.9728 - val_loss: 0.0203 - val_accuracy: 0.9900\n",
            "Epoch 147/200\n",
            "25/25 [==============================] - 0s 4ms/step - loss: 0.0288 - accuracy: 0.9770 - val_loss: 0.0251 - val_accuracy: 0.9800\n",
            "Epoch 148/200\n",
            "25/25 [==============================] - 0s 3ms/step - loss: 0.0276 - accuracy: 0.9666 - val_loss: 0.0290 - val_accuracy: 0.9550\n",
            "Epoch 149/200\n",
            "25/25 [==============================] - 0s 4ms/step - loss: 0.0215 - accuracy: 0.9858 - val_loss: 0.0252 - val_accuracy: 0.9800\n",
            "Epoch 150/200\n",
            "25/25 [==============================] - 0s 4ms/step - loss: 0.0239 - accuracy: 0.9737 - val_loss: 0.0222 - val_accuracy: 0.9800\n",
            "Epoch 151/200\n",
            "25/25 [==============================] - 0s 4ms/step - loss: 0.0250 - accuracy: 0.9808 - val_loss: 0.0360 - val_accuracy: 0.9400\n",
            "Epoch 152/200\n",
            "25/25 [==============================] - 0s 4ms/step - loss: 0.0259 - accuracy: 0.9704 - val_loss: 0.0259 - val_accuracy: 0.9700\n",
            "Epoch 153/200\n",
            "25/25 [==============================] - 0s 5ms/step - loss: 0.0250 - accuracy: 0.9751 - val_loss: 0.0239 - val_accuracy: 0.9800\n",
            "Epoch 154/200\n",
            "25/25 [==============================] - 0s 5ms/step - loss: 0.0266 - accuracy: 0.9756 - val_loss: 0.0232 - val_accuracy: 0.9700\n",
            "Epoch 155/200\n",
            "25/25 [==============================] - 0s 4ms/step - loss: 0.0248 - accuracy: 0.9733 - val_loss: 0.0234 - val_accuracy: 0.9800\n",
            "Epoch 156/200\n",
            "25/25 [==============================] - 0s 3ms/step - loss: 0.0240 - accuracy: 0.9755 - val_loss: 0.0310 - val_accuracy: 0.9600\n",
            "Epoch 157/200\n",
            "25/25 [==============================] - 0s 4ms/step - loss: 0.0260 - accuracy: 0.9760 - val_loss: 0.0257 - val_accuracy: 0.9750\n",
            "Epoch 158/200\n",
            "25/25 [==============================] - 0s 4ms/step - loss: 0.0245 - accuracy: 0.9706 - val_loss: 0.0305 - val_accuracy: 0.9550\n",
            "Epoch 159/200\n",
            "25/25 [==============================] - 0s 3ms/step - loss: 0.0228 - accuracy: 0.9705 - val_loss: 0.0279 - val_accuracy: 0.9650\n",
            "Epoch 160/200\n",
            "25/25 [==============================] - 0s 4ms/step - loss: 0.0216 - accuracy: 0.9754 - val_loss: 0.0276 - val_accuracy: 0.9600\n",
            "Epoch 161/200\n",
            "25/25 [==============================] - 0s 3ms/step - loss: 0.0274 - accuracy: 0.9703 - val_loss: 0.0267 - val_accuracy: 0.9650\n",
            "Epoch 162/200\n",
            "25/25 [==============================] - 0s 4ms/step - loss: 0.0269 - accuracy: 0.9668 - val_loss: 0.0305 - val_accuracy: 0.9650\n",
            "Epoch 163/200\n",
            "25/25 [==============================] - 0s 4ms/step - loss: 0.0244 - accuracy: 0.9794 - val_loss: 0.0205 - val_accuracy: 0.9850\n",
            "Epoch 164/200\n",
            "25/25 [==============================] - 0s 4ms/step - loss: 0.0247 - accuracy: 0.9766 - val_loss: 0.0282 - val_accuracy: 0.9700\n",
            "Epoch 165/200\n",
            "25/25 [==============================] - 0s 4ms/step - loss: 0.0249 - accuracy: 0.9803 - val_loss: 0.0319 - val_accuracy: 0.9550\n",
            "Epoch 166/200\n",
            "25/25 [==============================] - 0s 3ms/step - loss: 0.0232 - accuracy: 0.9820 - val_loss: 0.0321 - val_accuracy: 0.9500\n",
            "Epoch 167/200\n",
            "25/25 [==============================] - 0s 4ms/step - loss: 0.0225 - accuracy: 0.9816 - val_loss: 0.0316 - val_accuracy: 0.9550\n",
            "Epoch 168/200\n",
            "25/25 [==============================] - 0s 4ms/step - loss: 0.0281 - accuracy: 0.9727 - val_loss: 0.0246 - val_accuracy: 0.9700\n",
            "Epoch 169/200\n",
            "25/25 [==============================] - 0s 4ms/step - loss: 0.0201 - accuracy: 0.9760 - val_loss: 0.0232 - val_accuracy: 0.9750\n",
            "Epoch 170/200\n",
            "25/25 [==============================] - 0s 3ms/step - loss: 0.0236 - accuracy: 0.9720 - val_loss: 0.0235 - val_accuracy: 0.9800\n",
            "Epoch 171/200\n",
            "25/25 [==============================] - 0s 4ms/step - loss: 0.0233 - accuracy: 0.9693 - val_loss: 0.0268 - val_accuracy: 0.9650\n",
            "Epoch 172/200\n",
            "25/25 [==============================] - 0s 4ms/step - loss: 0.0307 - accuracy: 0.9569 - val_loss: 0.0355 - val_accuracy: 0.9550\n",
            "Epoch 173/200\n",
            "25/25 [==============================] - 0s 5ms/step - loss: 0.0241 - accuracy: 0.9719 - val_loss: 0.0220 - val_accuracy: 0.9800\n",
            "Epoch 174/200\n",
            "25/25 [==============================] - 0s 4ms/step - loss: 0.0247 - accuracy: 0.9758 - val_loss: 0.0234 - val_accuracy: 0.9750\n",
            "Epoch 175/200\n",
            "25/25 [==============================] - 0s 3ms/step - loss: 0.0210 - accuracy: 0.9807 - val_loss: 0.0220 - val_accuracy: 0.9800\n",
            "Epoch 176/200\n",
            "25/25 [==============================] - 0s 3ms/step - loss: 0.0236 - accuracy: 0.9668 - val_loss: 0.0253 - val_accuracy: 0.9650\n",
            "Epoch 177/200\n",
            "25/25 [==============================] - 0s 3ms/step - loss: 0.0214 - accuracy: 0.9745 - val_loss: 0.0227 - val_accuracy: 0.9750\n",
            "Epoch 178/200\n",
            "25/25 [==============================] - 0s 3ms/step - loss: 0.0174 - accuracy: 0.9820 - val_loss: 0.0272 - val_accuracy: 0.9650\n",
            "Epoch 179/200\n",
            "25/25 [==============================] - 0s 4ms/step - loss: 0.0213 - accuracy: 0.9779 - val_loss: 0.0247 - val_accuracy: 0.9550\n",
            "Epoch 180/200\n",
            "25/25 [==============================] - 0s 4ms/step - loss: 0.0229 - accuracy: 0.9751 - val_loss: 0.0223 - val_accuracy: 0.9650\n",
            "Epoch 181/200\n",
            "25/25 [==============================] - 0s 3ms/step - loss: 0.0249 - accuracy: 0.9755 - val_loss: 0.0202 - val_accuracy: 0.9750\n",
            "Epoch 182/200\n",
            "25/25 [==============================] - 0s 3ms/step - loss: 0.0242 - accuracy: 0.9769 - val_loss: 0.0255 - val_accuracy: 0.9600\n",
            "Epoch 183/200\n",
            "25/25 [==============================] - 0s 4ms/step - loss: 0.0219 - accuracy: 0.9828 - val_loss: 0.0182 - val_accuracy: 0.9900\n",
            "Epoch 184/200\n",
            "25/25 [==============================] - 0s 5ms/step - loss: 0.0244 - accuracy: 0.9755 - val_loss: 0.0217 - val_accuracy: 0.9750\n",
            "Epoch 185/200\n",
            "25/25 [==============================] - 0s 4ms/step - loss: 0.0215 - accuracy: 0.9798 - val_loss: 0.0337 - val_accuracy: 0.9450\n",
            "Epoch 186/200\n",
            "25/25 [==============================] - 0s 4ms/step - loss: 0.0203 - accuracy: 0.9760 - val_loss: 0.0200 - val_accuracy: 0.9900\n",
            "Epoch 187/200\n",
            "25/25 [==============================] - 0s 4ms/step - loss: 0.0217 - accuracy: 0.9775 - val_loss: 0.0247 - val_accuracy: 0.9700\n",
            "Epoch 188/200\n",
            "25/25 [==============================] - 0s 4ms/step - loss: 0.0188 - accuracy: 0.9762 - val_loss: 0.0225 - val_accuracy: 0.9800\n",
            "Epoch 189/200\n",
            "25/25 [==============================] - 0s 4ms/step - loss: 0.0195 - accuracy: 0.9788 - val_loss: 0.0223 - val_accuracy: 0.9800\n",
            "Epoch 190/200\n",
            "25/25 [==============================] - 0s 3ms/step - loss: 0.0234 - accuracy: 0.9757 - val_loss: 0.0217 - val_accuracy: 0.9800\n",
            "Epoch 191/200\n",
            "25/25 [==============================] - 0s 4ms/step - loss: 0.0224 - accuracy: 0.9734 - val_loss: 0.0310 - val_accuracy: 0.9450\n",
            "Epoch 192/200\n",
            "25/25 [==============================] - 0s 3ms/step - loss: 0.0257 - accuracy: 0.9760 - val_loss: 0.0196 - val_accuracy: 0.9800\n",
            "Epoch 193/200\n",
            "25/25 [==============================] - 0s 4ms/step - loss: 0.0232 - accuracy: 0.9777 - val_loss: 0.0178 - val_accuracy: 0.9850\n",
            "Epoch 194/200\n",
            "25/25 [==============================] - 0s 3ms/step - loss: 0.0216 - accuracy: 0.9757 - val_loss: 0.0322 - val_accuracy: 0.9400\n",
            "Epoch 195/200\n",
            "25/25 [==============================] - 0s 3ms/step - loss: 0.0214 - accuracy: 0.9758 - val_loss: 0.0225 - val_accuracy: 0.9700\n",
            "Epoch 196/200\n",
            "25/25 [==============================] - 0s 4ms/step - loss: 0.0196 - accuracy: 0.9734 - val_loss: 0.0170 - val_accuracy: 0.9900\n",
            "Epoch 197/200\n",
            "25/25 [==============================] - 0s 4ms/step - loss: 0.0169 - accuracy: 0.9874 - val_loss: 0.0325 - val_accuracy: 0.9550\n",
            "Epoch 198/200\n",
            "25/25 [==============================] - 0s 3ms/step - loss: 0.0203 - accuracy: 0.9762 - val_loss: 0.0213 - val_accuracy: 0.9800\n",
            "Epoch 199/200\n",
            "25/25 [==============================] - 0s 3ms/step - loss: 0.0203 - accuracy: 0.9781 - val_loss: 0.0192 - val_accuracy: 0.9800\n",
            "Epoch 200/200\n",
            "25/25 [==============================] - 0s 4ms/step - loss: 0.0173 - accuracy: 0.9848 - val_loss: 0.0238 - val_accuracy: 0.9600\n"
          ],
          "name": "stdout"
        }
      ]
    },
    {
      "cell_type": "markdown",
      "metadata": {
        "id": "LK0sG6ewPEby"
      },
      "source": [
        "Şimdi eğitimi tamamlanmış yapay sinir ağımızı test edelim."
      ]
    },
    {
      "cell_type": "code",
      "metadata": {
        "id": "LV7Vg6-fPIp_"
      },
      "source": [
        "model.predict(x).round()"
      ],
      "execution_count": null,
      "outputs": []
    },
    {
      "cell_type": "code",
      "metadata": {
        "colab": {
          "base_uri": "https://localhost:8080/",
          "height": 313
        },
        "id": "LCbGi5_DP5fa",
        "outputId": "cb2abd61-40a1-4f20-ceb5-10e402165c0f"
      },
      "source": [
        "lossCurve = history.history[\"loss\"]\n",
        "plt.plot(lossCurve, label=\"Train\")\n",
        "# plt.legend(loc='upper right')\n",
        "plt.title(\"Loss function\")\n",
        "plt.xlabel(\"epoch number\")"
      ],
      "execution_count": 23,
      "outputs": [
        {
          "output_type": "execute_result",
          "data": {
            "text/plain": [
              "Text(0.5, 0, 'epoch number')"
            ]
          },
          "metadata": {
            "tags": []
          },
          "execution_count": 23
        },
        {
          "output_type": "display_data",
          "data": {
            "image/png": "[encoded data removed]",
            "text/plain": [
              "<Figure size 432x288 with 1 Axes>"
            ]
          },
          "metadata": {
            "tags": [],
            "needs_background": "light"
          }
        }
      ]
    },
    {
      "cell_type": "code",
      "metadata": {
        "colab": {
          "base_uri": "https://localhost:8080/",
          "height": 297
        },
        "id": "KNcnir5-QGuR",
        "outputId": "0fc119ec-e6c6-4f91-a91a-8cdedba93a76"
      },
      "source": [
        "accuracyCurve = history.history[\"accuracy\"]\n",
        "plt.plot(accuracyCurve, label=\"Accuracy\")\n",
        "# plt.legend(loc='upper right')\n",
        "plt.ylabel(\"accuracy\")\n",
        "plt.xlabel(\"epoch number\")"
      ],
      "execution_count": 26,
      "outputs": [
        {
          "output_type": "execute_result",
          "data": {
            "text/plain": [
              "Text(0.5, 0, 'epoch number')"
            ]
          },
          "metadata": {
            "tags": []
          },
          "execution_count": 26
        },
        {
          "output_type": "display_data",
          "data": {
            "image/png": "[encoded data removed]",
            "text/plain": [
              "<Figure size 432x288 with 1 Axes>"
            ]
          },
          "metadata": {
            "tags": [],
            "needs_background": "light"
          }
        }
      ]
    }
  ]
}